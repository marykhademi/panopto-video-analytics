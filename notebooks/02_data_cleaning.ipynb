{
 "cells": [
  {
   "cell_type": "markdown",
   "metadata": {},
   "source": [
    "Data Cleaning Notebook\n",
    "\n",
    "This notebook is for experimenting, learning, and seeing results step-by-step while showing my though process, identifying mistakes, and make discoveries while data cleaning. This is a also good method to understand what the process looks like and to test ideas. It can also be used to add explanations and see the outputs immediately."
   ]
  },
  {
   "cell_type": "code",
   "execution_count": 14,
   "metadata": {},
   "outputs": [],
   "source": [
    "# Load necessary libraries/packages\n",
    "import pandas as pd"
   ]
  },
  {
   "cell_type": "code",
   "execution_count": 15,
   "metadata": {},
   "outputs": [],
   "source": [
    "# Load the file\n",
    "filePath = '../data/raw/panopto_cleaned.xlsx'\n",
    "\n",
    "# Display the sheets in the Excel file\n",
    "df = pd.ExcelFile(filePath)\n",
    "sheetNames = excelFile.sheet_names"
   ]
  },
  {
   "cell_type": "code",
   "execution_count": 16,
   "metadata": {},
   "outputs": [
    {
     "name": "stdout",
     "output_type": "stream",
     "text": [
      "\n",
      "GPHP2000 Fall 2022:\n",
      " ['Session', 'Media Type', 'Views and Downloads', 'Minutes Delivered', 'Average Minutes Delivered', 'Video Duration Minutes', 'Unique Viewers', 'Folder', 'Top-Level Folder', 'Creator']\n",
      "\n",
      "GPHP 2000 Spring 2024:\n",
      " ['Session', 'Media Type', 'Views and Downloads', 'Minutes Delivered', 'Average Minutes Delivered', 'Video Duration Minutes', 'Unique Viewers', 'Folder', 'Top-Level Folder', 'Creator']\n",
      "\n",
      "GPHP 2000 Summer 2024:\n",
      " ['Session', 'Media Type', 'Views and Downloads', 'Minutes Delivered', 'Average Minutes Delivered', 'Video Duration Minutes', 'Unique Viewers', 'Folder', 'Top-Level Folder', 'Creator']\n",
      "\n",
      "GPHP 2010 Spring 2023:\n",
      " ['Session', 'Media Type', 'Views and Downloads', 'Minutes Delivered', 'Average Minutes Delivered', 'Video Duration Minutes', 'Unique Viewers', 'Folder', 'Top-Level Folder', 'Creator']\n",
      "\n",
      "GPHP 2010 Fall 2023:\n",
      " ['Session', 'Media Type', 'Views and Downloads', 'Minutes Delivered', 'Average Minutes Delivered', 'Video Duration Minutes', 'Unique Viewers', 'Folder', 'Top-Level Folder', 'Creator']\n",
      "\n",
      "GPHP 2010 Spring 2024:\n",
      " ['Session', 'Media Type', 'Views and Downloads', 'Minutes Delivered', 'Average Minutes Delivered', 'Video Duration Minutes', 'Unique Viewers', 'Top-Level Folder', 'Creator']\n",
      "\n",
      "GPHP 2010 Fall 2024:\n",
      " ['Session', 'Media Type', 'Views and Downloads', 'Minutes Delivered', 'Average Minutes Delivered', 'Video Duration Minutes', 'Unique Viewers', 'Folder', 'Top-Level Folder', 'Creator']\n",
      "\n",
      "GPHP 2020 Summer 2023:\n",
      " ['Session', 'Media Type', 'Views and Downloads', 'Minutes Delivered', 'Average Minutes Delivered', 'Video Duration Minutes', 'Unique Viewers', 'Creator']\n",
      "\n",
      "GPHP 2020 Summer 2024:\n",
      " ['Session', 'Media Type', 'Views and Downloads', 'Minutes Delivered', 'Average Minutes Delivered', 'Video Duration Minutes', 'Unique Viewers', 'Creator']\n",
      "\n",
      "GPHP 2020 Fall 2024:\n",
      " ['Session', 'Media Type', 'Views and Downloads', 'Minutes Delivered', 'Average Minutes Delivered', 'Video Duration Minutes', 'Unique Viewers', 'Creator']\n",
      "\n",
      "GPHP 2300 Spring 2024:\n",
      " ['Session', 'Media Type', 'Views and Downloads', 'Minutes Delivered', 'Average Minutes Delivered', 'Video Duration Minutes', 'Unique Viewers', 'Creator']\n",
      "\n",
      "GPHP 2300 Summer 2024:\n",
      " ['Session', 'Media Type', 'Views and Downloads', 'Minutes Delivered', 'Average Minutes Delivered', 'Video Duration Minutes', 'Unique Viewers', 'Creator']\n",
      "\n",
      "GPHP 2300 Fall 2024:\n",
      " ['Session', 'Media Type', 'Views and Downloads', 'Minutes Delivered', 'Average Minutes Delivered', 'Video Duration Minutes', 'Unique Viewers', 'Creator']\n",
      "\n",
      "GPHP 2310 Summer 2023:\n",
      " ['Session', 'Media Type', 'Views and Downloads', 'Minutes Delivered', 'Average Minutes Delivered', 'Video Duration Minutes', 'Unique Viewers', 'Folder', 'Top-Level Folder', 'Creator']\n",
      "\n",
      "GPHP 2310 Fall 2024:\n",
      " ['Session', 'Media Type', 'Views and Downloads', 'Minutes Delivered', 'Average Minutes Delivered', 'Video Duration Minutes', 'Unique Viewers', 'Creator']\n",
      "\n",
      "GPHP 2320 Spring 2024:\n",
      " ['Session', 'Media Type', 'Views and Downloads', 'Minutes Delivered', 'Average Minutes Delivered', 'Video Duration Minutes', 'Unique Viewers', 'Creator']\n",
      "\n",
      "GPHP 2320 Summer 2024:\n",
      " ['Session', 'Media Type', 'Views and Downloads', 'Minutes Delivered', 'Average Minutes Delivered', 'Video Duration Minutes', 'Unique Viewers', 'Creator']\n",
      "\n",
      "GPHP 2400 Spring 2023:\n",
      " ['Session', 'Media Type', 'Views and Downloads', 'Minutes Delivered', 'Average Minutes Delivered', 'Video Duration Minutes', 'Unique Viewers', 'Folder', 'Top-Level Folder', 'Creator']\n",
      "\n",
      "GPHP 2400 Summer 2024:\n",
      " ['Session', 'Media Type', 'Views and Downloads', 'Minutes Delivered', 'Average Minutes Delivered', 'Video Duration Minutes', 'Unique Viewers', 'Folder', 'Top-Level Folder', 'Creator']\n",
      "\n",
      "GPHP 2400 Fall 2024:\n",
      " ['Session', 'Media Type', 'Views and Downloads', 'Minutes Delivered', 'Average Minutes Delivered', 'Video Duration Minutes', 'Unique Viewers', 'Folder', 'Top-Level Folder', 'Creator']\n",
      "\n",
      "GPHP 2410 Fall 2023:\n",
      " ['Session', 'Media Type', 'Views and Downloads', 'Minutes Delivered', 'Average Minutes Delivered', 'Video Duration Minutes', 'Unique Viewers', 'Folder', 'Top-Level Folder', 'Creator']\n",
      "\n",
      "GPHP 2410 Spring 2024:\n",
      " ['Session', 'Media Type', 'Views and Downloads', 'Minutes Delivered', 'Average Minutes Delivered', 'Video Duration Minutes', 'Unique Viewers', 'Folder', 'Top-Level Folder', 'Creator']\n",
      "\n",
      "GPHP2800 Fall 2022:\n",
      " ['Session', 'Media Type', 'Views and Downloads', 'Minutes Delivered', 'Average Minutes Delivered', 'Video Duration Minutes', 'Unique Viewers', 'Folder', 'Top-Level Folder', 'Creator']\n",
      "\n",
      "GPHP 2800 Fall 2023:\n",
      " ['Session', 'Media Type', 'Views and Downloads', 'Minutes Delivered', 'Average Minutes Delivered', 'Video Duration Minutes', 'Unique Viewers', 'Folder', 'Top-Level Folder', 'Creator']\n",
      "\n",
      "GPHP 2800 Spring 2024:\n",
      " ['Session', 'Media Type', 'Views and Downloads', 'Minutes Delivered', 'Average Minutes Delivered', 'Video Duration Minutes', 'Unique Viewers', 'Top-Level Folder', 'Creator']\n",
      "\n",
      "GPHP 2800 Fall 2024:\n",
      " ['Session', 'Media Type', 'Views and Downloads', 'Minutes Delivered', 'Average Minutes Delivered', 'Video Duration Minutes', 'Unique Viewers', 'Top-Level Folder', 'Creator']\n",
      "\n",
      "GPHP 2810 Summer 2024:\n",
      " ['Session', 'Media Type', 'Views and Downloads', 'Minutes Delivered', 'Average Minutes Delivered', 'Video Duration Minutes', 'Unique Viewers', 'Creator']\n",
      "\n",
      "GPHP 2810 Fall 2024:\n",
      " ['Session', 'Media Type', 'Views and Downloads', 'Minutes Delivered', 'Average Minutes Delivered', 'Video Duration Minutes', 'Unique Viewers', 'Creator']\n",
      "\n",
      "GPHP 2850 Fall 2023:\n",
      " ['Session', 'Media Type', 'Views and Downloads', 'Minutes Delivered', 'Average Minutes Delivered', 'Video Duration Minutes', 'Unique Viewers', 'Folder', 'Top-Level Folder', 'Creator']\n",
      "\n",
      "GPHP 2850 Spring 2024:\n",
      " ['Session', 'Media Type', 'Views and Downloads', 'Minutes Delivered', 'Average Minutes Delivered', 'Video Duration Minutes', 'Unique Viewers', 'Folder', 'Top-Level Folder', 'Creator']\n",
      "\n",
      "GPHP 2850 Summer 2024:\n",
      " ['Session', 'Media Type', 'Views and Downloads', 'Minutes Delivered', 'Average Minutes Delivered', 'Video Duration Minutes', 'Unique Viewers', 'Folder', 'Top-Level Folder', 'Creator']\n",
      "\n",
      "GPHP 2900 Summer 2024:\n",
      " ['Session', 'Media Type', 'Views and Downloads', 'Minutes Delivered', 'Average Minutes Delivered', 'Video Duration Minutes', 'Unique Viewers', 'Creator']\n",
      "\n",
      "GPHP 2900 Fall 2024:\n",
      " ['Session', 'Media Type', 'Views and Downloads', 'Minutes Delivered', 'Average Minutes Delivered', 'Video Duration Minutes', 'Unique Viewers', 'Creator']\n"
     ]
    }
   ],
   "source": [
    "courseList = pd.read_excel(filePath, sheet_name = sheetNames[0])\n",
    "metadata = pd.read_excel(filePath, sheet_name = sheetNames[1])\n",
    "\n",
    "courses = pd.read_excel(filePath, sheet_name = sheetNames[2:])\n",
    "\n",
    "columnVars = {} \n",
    "\n",
    "for sheet in courses:\n",
    "    df = pd.read_excel(filePath, sheet_name = sheet)\n",
    "    columnVars[sheet] = list(df.columns)\n",
    "    print(f\"\\n{sheet}:\\n {list(df.columns)}\")"
   ]
  },
  {
   "cell_type": "code",
   "execution_count": 17,
   "metadata": {},
   "outputs": [
    {
     "name": "stdout",
     "output_type": "stream",
     "text": [
      "Unique columns: 10\n",
      "1. Average Minutes Delivered\n",
      "2. Creator\n",
      "3. Folder\n",
      "4. Media Type\n",
      "5. Minutes Delivered\n",
      "6. Session\n",
      "7. Top-Level Folder\n",
      "8. Unique Viewers\n",
      "9. Video Duration Minutes\n",
      "10. Views and Downloads\n"
     ]
    }
   ],
   "source": [
    "# Find inconsistencies in column names in all sheets\n",
    "allColumns = set() # To store all unique column names\n",
    "for cols in columnVars.values():\n",
    "    allColumns.update(cols)\n",
    "\n",
    "print(f\"Unique columns: {len(allColumns)}\")\n",
    "for i, col in enumerate(sorted(allColumns)):\n",
    "    print(f\"{i+1}. {col}\")"
   ]
  },
  {
   "cell_type": "code",
   "execution_count": 18,
   "metadata": {},
   "outputs": [
    {
     "name": "stdout",
     "output_type": "stream",
     "text": [
      "1. GPHP2000 Fall 2022\n",
      "2. GPHP 2000 Spring 2024\n",
      "3. GPHP 2000 Summer 2024\n",
      "4. GPHP 2010 Spring 2023\n",
      "5. GPHP 2010 Fall 2023\n",
      "6. GPHP 2010 Spring 2024\n",
      "7. GPHP 2010 Fall 2024\n",
      "8. GPHP 2020 Summer 2023\n",
      "9. GPHP 2020 Summer 2024\n",
      "10. GPHP 2020 Fall 2024\n",
      "11. GPHP 2300 Spring 2024\n",
      "12. GPHP 2300 Summer 2024\n",
      "13. GPHP 2300 Fall 2024\n",
      "14. GPHP 2310 Summer 2023\n",
      "15. GPHP 2310 Fall 2024\n",
      "16. GPHP 2320 Spring 2024\n",
      "17. GPHP 2320 Summer 2024\n",
      "18. GPHP 2400 Spring 2023\n",
      "19. GPHP 2400 Summer 2024\n",
      "20. GPHP 2400 Fall 2024\n",
      "21. GPHP 2410 Fall 2023\n",
      "22. GPHP 2410 Spring 2024\n",
      "23. GPHP2800 Fall 2022\n",
      "24. GPHP 2800 Fall 2023\n",
      "25. GPHP 2800 Spring 2024\n",
      "26. GPHP 2800 Fall 2024\n",
      "27. GPHP 2810 Summer 2024\n",
      "28. GPHP 2810 Fall 2024\n",
      "29. GPHP 2850 Fall 2023\n",
      "30. GPHP 2850 Spring 2024\n",
      "31. GPHP 2850 Summer 2024\n",
      "32. GPHP 2900 Summer 2024\n",
      "33. GPHP 2900 Fall 2024\n"
     ]
    }
   ],
   "source": [
    "# Sheet Names pattern\n",
    "for i, sheet in enumerate(courses):\n",
    "    print(f\"{i+1}. {sheet}\")"
   ]
  },
  {
   "cell_type": "markdown",
   "metadata": {},
   "source": [
    "#### Data Cleaning: creating standard column names\n",
    "\n",
    "Based on previous findings, we have identified spaces, special characters, and weird naming patterns in column names. However, sheet names follow the same format of (course code, course number, semester, and year), it is still needed to standardize the format for both columns and course (sheet) names for better analysis. \n",
    "\n",
    "Also, I will check for consistent data types (numbers stored as numeric, and not texts) and identify missing values or outliers. "
   ]
  },
  {
   "cell_type": "code",
   "execution_count": 19,
   "metadata": {},
   "outputs": [
    {
     "name": "stdout",
     "output_type": "stream",
     "text": [
      "Renaming 'Session' to 'session_title'\n",
      "Renaming 'Media Type' to 'media_type'\n",
      "Renaming 'Views and Downloads' to 'views_downloads'\n",
      "Renaming 'Minutes Delivered' to 'minutes_delivered'\n",
      "Renaming 'Average Minutes Delivered' to 'avg_minutes_delivered'\n",
      "Renaming 'Video Duration Minutes' to 'video_duration_minutes'\n",
      "Renaming 'Unique Viewers' to 'unique_viewers'\n",
      "Renaming 'Folder' to 'folder'\n",
      "Renaming 'Top-Level Folder' to 'top_level_folder'\n",
      "Renaming 'Creator' to 'creator'\n"
     ]
    }
   ],
   "source": [
    "# map current column names to clean/standardized names\n",
    "\n",
    "column_names = {\n",
    "    'Session': 'session_title',\n",
    "    'Media Type': 'media_type',\n",
    "    'Views and Downloads': 'views_downloads',\n",
    "    'Minutes Delivered': 'minutes_delivered',\n",
    "    'Average Minutes Delivered': 'avg_minutes_delivered',\n",
    "    'Video Duration Minutes': 'video_duration_minutes',\n",
    "    'Unique Viewers': 'unique_viewers',\n",
    "    'Folder': 'folder',\n",
    "    'Top-Level Folder': 'top_level_folder',\n",
    "    'Creator': 'creator',\n",
    "}\n",
    "\n",
    "for old_name, new_name in column_names.items():\n",
    "    print(f\"Renaming '{old_name}' to '{new_name}'\")"
   ]
  },
  {
   "cell_type": "code",
   "execution_count": 20,
   "metadata": {},
   "outputs": [
    {
     "name": "stdout",
     "output_type": "stream",
     "text": [
      "Structure: (140, 10)\n",
      "Columns before renaming: ['Session', 'Media Type', 'Views and Downloads', 'Minutes Delivered', 'Average Minutes Delivered', 'Video Duration Minutes', 'Unique Viewers', 'Folder', 'Top-Level Folder', 'Creator']\n",
      "Structure: (140, 10)\n",
      "Columns after renaming: ['session_title', 'media_type', 'views_downloads', 'minutes_delivered', 'avg_minutes_delivered', 'video_duration_minutes', 'unique_viewers', 'folder', 'top_level_folder', 'creator']\n"
     ]
    }
   ],
   "source": [
    "# change column names in first sheet as example\n",
    "\n",
    "first_sheet_name = list(courses.keys())[0]\n",
    "df_first = courses[first_sheet_name]\n",
    "\n",
    "print(f\"Structure: {df_first.shape}\")\n",
    "print(f\"Columns before renaming: {list(df_first.columns)}\")\n",
    "\n",
    "df_cleaned = df_first.rename(columns = column_names)\n",
    "print(f\"Structure: {df_cleaned.shape}\")\n",
    "print(f\"Columns after renaming: {list(df_cleaned.columns)}\")"
   ]
  },
  {
   "cell_type": "code",
   "execution_count": 21,
   "metadata": {},
   "outputs": [
    {
     "name": "stdout",
     "output_type": "stream",
     "text": [
      "session_title              object\n",
      "media_type                 object\n",
      "views_downloads             int64\n",
      "minutes_delivered         float64\n",
      "avg_minutes_delivered     float64\n",
      "video_duration_minutes    float64\n",
      "unique_viewers              int64\n",
      "folder                     object\n",
      "top_level_folder           object\n",
      "creator                    object\n",
      "dtype: object\n"
     ]
    }
   ],
   "source": [
    "# data quality \n",
    "# check for variables data types\n",
    "print(df_cleaned.dtypes)"
   ]
  },
  {
   "cell_type": "code",
   "execution_count": 22,
   "metadata": {},
   "outputs": [
    {
     "name": "stdout",
     "output_type": "stream",
     "text": [
      "Missing values per column:\n",
      "Count of missing_values in each columns:\n",
      "session_title             0\n",
      "media_type                0\n",
      "views_downloads           0\n",
      "minutes_delivered         0\n",
      "avg_minutes_delivered     0\n",
      "video_duration_minutes    0\n",
      "unique_viewers            0\n",
      "folder                    0\n",
      "top_level_folder          0\n",
      "creator                   0\n",
      "dtype: int64\n"
     ]
    }
   ],
   "source": [
    "# check for missing values\n",
    "missing_values = df_cleaned.isnull().sum()\n",
    "print(\"Missing values per column:\")\n",
    "print(f\"Count of missing_values in each columns:\\n{missing_values}\")"
   ]
  },
  {
   "cell_type": "code",
   "execution_count": 23,
   "metadata": {},
   "outputs": [
    {
     "name": "stdout",
     "output_type": "stream",
     "text": [
      "\n",
      "Outlier for 'views_downloads':\n",
      "Min: 1\n",
      "Max: 118\n",
      "Mean: 30.385714285714286\n",
      "Median: 28.5\n",
      "\n",
      "Outlier for 'minutes_delivered':\n",
      "Min: 0.04\n",
      "Max: 601.3\n",
      "Mean: 142.28842857142857\n",
      "Median: 106.95\n",
      "\n",
      "Outlier for 'video_duration_minutes':\n",
      "Min: 0.1\n",
      "Max: 14.4\n",
      "Mean: 4.352857142857143\n",
      "Median: 4.199999999999999\n",
      "\n",
      "Outlier for 'unique_viewers':\n",
      "Min: 1\n",
      "Max: 53\n",
      "Mean: 22.135714285714286\n",
      "Median: 24.5\n"
     ]
    }
   ],
   "source": [
    "# check for outliers (numeric columns)\n",
    "numeric_cols = ['views_downloads', 'minutes_delivered', 'video_duration_minutes', 'unique_viewers']\n",
    "\n",
    "for col in numeric_cols:\n",
    "    if col in df_cleaned.columns:\n",
    "        print(f\"\\nOutlier for '{col}':\")\n",
    "        print(f\"Min: {df_cleaned[col].min()}\")\n",
    "        print(f\"Max: {df_cleaned[col].max()}\")\n",
    "        print(f\"Mean: {df_cleaned[col].mean()}\")\n",
    "        print(f\"Median: {df_cleaned[col].median()}\")\n"
   ]
  },
  {
   "cell_type": "code",
   "execution_count": null,
   "metadata": {},
   "outputs": [
    {
     "ename": "KeyError",
     "evalue": "2",
     "output_type": "error",
     "traceback": [
      "\u001b[31m---------------------------------------------------------------------------\u001b[39m",
      "\u001b[31mKeyError\u001b[39m                                  Traceback (most recent call last)",
      "\u001b[36mFile \u001b[39m\u001b[32m~/panopto-video-analytics/venv/lib/python3.13/site-packages/pandas/core/indexes/base.py:3812\u001b[39m, in \u001b[36mIndex.get_loc\u001b[39m\u001b[34m(self, key)\u001b[39m\n\u001b[32m   3811\u001b[39m \u001b[38;5;28;01mtry\u001b[39;00m:\n\u001b[32m-> \u001b[39m\u001b[32m3812\u001b[39m     \u001b[38;5;28;01mreturn\u001b[39;00m \u001b[38;5;28;43mself\u001b[39;49m\u001b[43m.\u001b[49m\u001b[43m_engine\u001b[49m\u001b[43m.\u001b[49m\u001b[43mget_loc\u001b[49m\u001b[43m(\u001b[49m\u001b[43mcasted_key\u001b[49m\u001b[43m)\u001b[49m\n\u001b[32m   3813\u001b[39m \u001b[38;5;28;01mexcept\u001b[39;00m \u001b[38;5;167;01mKeyError\u001b[39;00m \u001b[38;5;28;01mas\u001b[39;00m err:\n",
      "\u001b[36mFile \u001b[39m\u001b[32mpandas/_libs/index.pyx:167\u001b[39m, in \u001b[36mpandas._libs.index.IndexEngine.get_loc\u001b[39m\u001b[34m()\u001b[39m\n",
      "\u001b[36mFile \u001b[39m\u001b[32mpandas/_libs/index.pyx:196\u001b[39m, in \u001b[36mpandas._libs.index.IndexEngine.get_loc\u001b[39m\u001b[34m()\u001b[39m\n",
      "\u001b[36mFile \u001b[39m\u001b[32mpandas/_libs/hashtable_class_helper.pxi:7088\u001b[39m, in \u001b[36mpandas._libs.hashtable.PyObjectHashTable.get_item\u001b[39m\u001b[34m()\u001b[39m\n",
      "\u001b[36mFile \u001b[39m\u001b[32mpandas/_libs/hashtable_class_helper.pxi:7096\u001b[39m, in \u001b[36mpandas._libs.hashtable.PyObjectHashTable.get_item\u001b[39m\u001b[34m()\u001b[39m\n",
      "\u001b[31mKeyError\u001b[39m: 2",
      "\nThe above exception was the direct cause of the following exception:\n",
      "\u001b[31mKeyError\u001b[39m                                  Traceback (most recent call last)",
      "\u001b[36mCell\u001b[39m\u001b[36m \u001b[39m\u001b[32mIn[30]\u001b[39m\u001b[32m, line 2\u001b[39m\n\u001b[32m      1\u001b[39m df = df.rename(columns = column_names)\n\u001b[32m----> \u001b[39m\u001b[32m2\u001b[39m \u001b[43mdf\u001b[49m\u001b[43m[\u001b[49m\u001b[32;43m2\u001b[39;49m\u001b[43m]\u001b[49m\n",
      "\u001b[36mFile \u001b[39m\u001b[32m~/panopto-video-analytics/venv/lib/python3.13/site-packages/pandas/core/frame.py:4113\u001b[39m, in \u001b[36mDataFrame.__getitem__\u001b[39m\u001b[34m(self, key)\u001b[39m\n\u001b[32m   4111\u001b[39m \u001b[38;5;28;01mif\u001b[39;00m \u001b[38;5;28mself\u001b[39m.columns.nlevels > \u001b[32m1\u001b[39m:\n\u001b[32m   4112\u001b[39m     \u001b[38;5;28;01mreturn\u001b[39;00m \u001b[38;5;28mself\u001b[39m._getitem_multilevel(key)\n\u001b[32m-> \u001b[39m\u001b[32m4113\u001b[39m indexer = \u001b[38;5;28;43mself\u001b[39;49m\u001b[43m.\u001b[49m\u001b[43mcolumns\u001b[49m\u001b[43m.\u001b[49m\u001b[43mget_loc\u001b[49m\u001b[43m(\u001b[49m\u001b[43mkey\u001b[49m\u001b[43m)\u001b[49m\n\u001b[32m   4114\u001b[39m \u001b[38;5;28;01mif\u001b[39;00m is_integer(indexer):\n\u001b[32m   4115\u001b[39m     indexer = [indexer]\n",
      "\u001b[36mFile \u001b[39m\u001b[32m~/panopto-video-analytics/venv/lib/python3.13/site-packages/pandas/core/indexes/base.py:3819\u001b[39m, in \u001b[36mIndex.get_loc\u001b[39m\u001b[34m(self, key)\u001b[39m\n\u001b[32m   3814\u001b[39m     \u001b[38;5;28;01mif\u001b[39;00m \u001b[38;5;28misinstance\u001b[39m(casted_key, \u001b[38;5;28mslice\u001b[39m) \u001b[38;5;129;01mor\u001b[39;00m (\n\u001b[32m   3815\u001b[39m         \u001b[38;5;28misinstance\u001b[39m(casted_key, abc.Iterable)\n\u001b[32m   3816\u001b[39m         \u001b[38;5;129;01mand\u001b[39;00m \u001b[38;5;28many\u001b[39m(\u001b[38;5;28misinstance\u001b[39m(x, \u001b[38;5;28mslice\u001b[39m) \u001b[38;5;28;01mfor\u001b[39;00m x \u001b[38;5;129;01min\u001b[39;00m casted_key)\n\u001b[32m   3817\u001b[39m     ):\n\u001b[32m   3818\u001b[39m         \u001b[38;5;28;01mraise\u001b[39;00m InvalidIndexError(key)\n\u001b[32m-> \u001b[39m\u001b[32m3819\u001b[39m     \u001b[38;5;28;01mraise\u001b[39;00m \u001b[38;5;167;01mKeyError\u001b[39;00m(key) \u001b[38;5;28;01mfrom\u001b[39;00m\u001b[38;5;250m \u001b[39m\u001b[34;01merr\u001b[39;00m\n\u001b[32m   3820\u001b[39m \u001b[38;5;28;01mexcept\u001b[39;00m \u001b[38;5;167;01mTypeError\u001b[39;00m:\n\u001b[32m   3821\u001b[39m     \u001b[38;5;66;03m# If we have a listlike key, _check_indexing_error will raise\u001b[39;00m\n\u001b[32m   3822\u001b[39m     \u001b[38;5;66;03m#  InvalidIndexError. Otherwise we fall through and re-raise\u001b[39;00m\n\u001b[32m   3823\u001b[39m     \u001b[38;5;66;03m#  the TypeError.\u001b[39;00m\n\u001b[32m   3824\u001b[39m     \u001b[38;5;28mself\u001b[39m._check_indexing_error(key)\n",
      "\u001b[31mKeyError\u001b[39m: 2"
     ]
    }
   ],
   "source": [
    "df = df.rename(columns = column_names)\n",
    "\n",
    "\n"
   ]
  }
 ],
 "metadata": {
  "kernelspec": {
   "display_name": "venv",
   "language": "python",
   "name": "python3"
  },
  "language_info": {
   "codemirror_mode": {
    "name": "ipython",
    "version": 3
   },
   "file_extension": ".py",
   "mimetype": "text/x-python",
   "name": "python",
   "nbconvert_exporter": "python",
   "pygments_lexer": "ipython3",
   "version": "3.13.7"
  }
 },
 "nbformat": 4,
 "nbformat_minor": 2
}
