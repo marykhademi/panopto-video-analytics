{
 "cells": [
  {
   "cell_type": "markdown",
   "metadata": {},
   "source": [
    "Data Cleaning Notebook\n",
    "\n",
    "This notebook is for experimenting, learning, and seeing results step-by-step while showing my though process, identifying mistakes, and make discoveries while data cleaning. This is a also good method to understand what the process looks like and to test ideas. It can also be used to add explanations and see the outputs immediately."
   ]
  },
  {
   "cell_type": "code",
   "execution_count": null,
   "metadata": {},
   "outputs": [],
   "source": []
  }
 ],
 "metadata": {
  "kernelspec": {
   "display_name": "venv",
   "language": "python",
   "name": "python3"
  },
  "language_info": {
   "name": "python",
   "version": "3.13.7"
  }
 },
 "nbformat": 4,
 "nbformat_minor": 2
}
