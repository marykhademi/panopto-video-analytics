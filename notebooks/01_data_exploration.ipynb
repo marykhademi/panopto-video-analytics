{
 "cells": [
  {
   "cell_type": "code",
   "execution_count": null,
   "metadata": {},
   "outputs": [],
   "source": [
    "# Import libraries\n",
    "import pandas as pd\n",
    "import numpy as np"
   ]
  },
  {
   "cell_type": "code",
   "execution_count": null,
   "metadata": {},
   "outputs": [],
   "source": [
    "# Load Excel files\n",
    "# Replace 'your_file_name.xlsx' with your file name \n",
    "filePath = '../data/raw/your_file_name.xlsx'\n",
    "\n",
    "# Display the sheets in the Excel file\n",
    "xcelFile = pd.ExcelFile(filePath)\n",
    "sheetNames = xcelFile.sheet_names\n",
    "\n",
    "print(f\"Sheet names in {sheetNames[2]} file:\")\n",
    "for i, sheet in enumerate(sheetNames):\n",
    "    print(f\"{i+1}. {sheet}\")\n",
    "\n",
    "# Total number of sheets\n",
    "print(f\"\\nTotal number of sheets: {len(sheetNames)}\")"
   ]
  },
  {
   "cell_type": "code",
   "execution_count": null,
   "metadata": {},
   "outputs": [],
   "source": [
    "# Let's explore one of the courses \n",
    "\n",
    "# Target sheet (course) - you can change this to any sheet name\n",
    "targetSheet = sheetNames[2]\n",
    "\n",
    "# Load the target sheet into a DataFrame\n",
    "df = pd.read_excel(filePath, sheet_name = targetSheet)\n",
    "\n",
    "print(f\"Course Name: {targetSheet}\")\n",
    "print(f\"Number of videos: {df.shape[0]}\")\n",
    "print(f\"Number of variables (column): {df.shape[1]}\")"
   ]
  },
  {
   "cell_type": "code",
   "execution_count": null,
   "metadata": {},
   "outputs": [],
   "source": [
    "# Display the variables (columns)\n",
    "print(\"Variables (columns)\")\n",
    "for i, var in enumerate(df.columns):\n",
    "    print(f\"{i+1}. {var}\")"
   ]
  },
  {
   "cell_type": "code",
   "execution_count": null,
   "metadata": {},
   "outputs": [],
   "source": [
    "# Display the first few videos (rows)\n",
    "print(\"First 10 videos (rows)\")\n",
    "df.head(10)"
   ]
  },
  {
   "cell_type": "code",
   "execution_count": null,
   "metadata": {},
   "outputs": [],
   "source": [
    "# Basic data exploration questions about this course\n",
    "print(f\"Course: {targetSheet}\")\n",
    "print(f\"Total videos: {len(df)}\")\n",
    "\n",
    "# Explore 'Views and Downloads' column:\n",
    "if 'Views and Downloads' in df.columns:\n",
    "    total_views = df['Views and Downloads'].sum()\n",
    "    print(f\"Total views for this course: {total_views}\")\n",
    "    \n",
    "    # Popular videos\n",
    "    most_popular = df.loc[df['Views and Downloads'].idxmax()]\n",
    "    print(f\"Most popular video: {most_popular['Session']} with {most_popular['Views and Downloads']} views\")"
   ]
  }
 ],
 "metadata": {
  "kernelspec": {
   "display_name": "venv",
   "language": "python",
   "name": "python3"
  },
  "language_info": {
   "codemirror_mode": {
    "name": "ipython",
    "version": 3
   },
   "file_extension": ".py",
   "mimetype": "text/x-python",
   "name": "python",
   "nbconvert_exporter": "python",
   "pygments_lexer": "ipython3",
   "version": "3.13.7"
  }
 },
 "nbformat": 4,
 "nbformat_minor": 2
}
