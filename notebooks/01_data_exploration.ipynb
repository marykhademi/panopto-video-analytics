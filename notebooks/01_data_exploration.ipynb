{
 "cells": [
  {
   "cell_type": "code",
   "execution_count": 15,
   "metadata": {},
   "outputs": [],
   "source": [
    "# Import libraries\n",
    "import pandas as pd\n",
    "import numpy as np"
   ]
  },
  {
   "cell_type": "code",
   "execution_count": 16,
   "metadata": {},
   "outputs": [
    {
     "name": "stdout",
     "output_type": "stream",
     "text": [
      "Sheet names in GPHP2000 Fall 2022 file:\n",
      "1. List of Courses\n",
      "2. Data Points Defined\n",
      "3. GPHP2000 Fall 2022\n",
      "4. GPHP 2000 Spring 2024\n",
      "5. GPHP 2000 Summer 2024\n",
      "6. GPHP 2010 Spring 2023\n",
      "7. GPHP 2010 Fall 2023\n",
      "8. GPHP 2010 Spring 2024\n",
      "9. GPHP 2010 Fall 2024\n",
      "10. GPHP 2020 Summer 2023\n",
      "11. GPHP 2020 Summer 2024\n",
      "12. GPHP 2020 Fall 2024\n",
      "13. GPHP 2300 Spring 2024\n",
      "14. GPHP 2300 Summer 2024\n",
      "15. GPHP 2300 Fall 2024\n",
      "16. GPHP 2310 Summer 2023\n",
      "17. GPHP 2310 Fall 2024\n",
      "18. GPHP 2320 Spring 2024\n",
      "19. GPHP 2320 Summer 2024\n",
      "20. GPHP 2400 Spring 2023\n",
      "21. GPHP 2400 Summer 2024\n",
      "22. GPHP 2400 Fall 2024\n",
      "23. GPHP 2410 Fall 2023\n",
      "24. GPHP 2410 Spring 2024\n",
      "25. GPHP2800 Fall 2022\n",
      "26. GPHP 2800 Fall 2023\n",
      "27. GPHP 2800 Spring 2024\n",
      "28. GPHP 2800 Fall 2024\n",
      "29. GPHP 2810 Summer 2024\n",
      "30. GPHP 2810 Fall 2024\n",
      "31. GPHP 2850 Fall 2023\n",
      "32. GPHP 2850 Spring 2024\n",
      "33. GPHP 2850 Summer 2024\n",
      "34. GPHP 2900 Summer 2024\n",
      "35. GPHP 2900 Fall 2024\n",
      "\n",
      "Total number of sheets: 35\n"
     ]
    }
   ],
   "source": [
    "# Load Excel files\n",
    "# Replace 'your_file_name.xlsx' with your file name \n",
    "filePath = '../data/raw/panopto_cleaned.xlsx'\n",
    "\n",
    "# Display the sheets in the Excel file\n",
    "excelFile = pd.ExcelFile(filePath)\n",
    "sheetNames = excelFile.sheet_names\n",
    "\n",
    "print(f\"Sheet names in {sheetNames[2]} file:\")\n",
    "for i, sheet in enumerate(sheetNames):\n",
    "    print(f\"{i+1}. {sheet}\")\n",
    "\n",
    "# Total number of sheets\n",
    "print(f\"\\nTotal number of sheets: {len(sheetNames)}\")"
   ]
  },
  {
   "cell_type": "markdown",
   "metadata": {},
   "source": [
    "#### Let's find some patterns in this Online Master of Public Health program!\n",
    "\n",
    "1. List of all courses in the dataset\n",
    "2. Total number of videos across all 33 courses\n",
    "3. Most viewed/downloaded content type for each course"
   ]
  },
  {
   "cell_type": "code",
   "execution_count": 17,
   "metadata": {},
   "outputs": [
    {
     "name": "stdout",
     "output_type": "stream",
     "text": [
      "Courses in this program:\n",
      "1. Using Biostatistics to Make Public Health Decisions\n",
      "2. Using Biostatistics to Make Public Health Decisions\n",
      "3. Using Biostatistics to Make Public Health Decisions\n",
      "4. Using Epidemiology to Make Public Health Decisions\n",
      "5. Using Epidemiology to Make Public Health Decisions\n",
      "6. Using Epidemiology to Make Public Health Decisions\n",
      "7. Using Epidemiology to Make Public Health Decisions\n",
      "8. Using Survey and Qualitative Methods to Make Public Health Decisions\n",
      "9. Using Survey and Qualitative Methods to Make Public Health Decisions\n",
      "10. Using Survey and Qualitative Methods to Make Public Health Decisions\n",
      "11. Social Determinants of Health Equity in Public Health\n",
      "12. Social Determinants of Health Equity in Public Health\n",
      "13. Social Determinants of Health Equity in Public Health\n",
      "14. Interventions at the Local National and Global Scale\n",
      "15. Interventions at the Local National and Global Scale\n",
      "16. Evaluation of Public Health Programs\n",
      "17. Evaluation of Public Health Programs\n",
      "18. Health Care Systems and Policy\n",
      "19. Health Care Systems and Policy\n",
      "20. Health Care Systems and Policy\n",
      "21. Comparative Health Systems\n",
      "22. Comparative Health Systems\n",
      "23. Public Health Leadership and Practice\n",
      "24. Public Health Leadership and Practice\n",
      "25. Public Health Leadership and Practice\n",
      "26. Public Health Leadership and Practice\n",
      "27. Local-Global Public Health Leadership\n",
      "28. Local-Global Public Health Leadership\n",
      "29. Public Health Communications\n",
      "30. Public Health Communications\n",
      "31. Public Health Communications\n",
      "32. Integrated Learning Experience (ILE)\n",
      "33. Integrated Learning Experience (ILE)\n"
     ]
    }
   ],
   "source": [
    "# Display the list of courses\n",
    "courseList = pd.read_excel(filePath, sheet_name = 'List of Courses')\n",
    "print(f\"Courses in this program:\")\n",
    "for i, course in enumerate(courseList['Course Title']):\n",
    "    print(f\"{i+1}. {course}\")"
   ]
  },
  {
   "cell_type": "code",
   "execution_count": 18,
   "metadata": {},
   "outputs": [
    {
     "name": "stdout",
     "output_type": "stream",
     "text": [
      "Number of videos in GPHP2000 Fall 2022: 140 videos\n",
      "Number of videos in GPHP 2000 Spring 2024: 57 videos\n",
      "Number of videos in GPHP 2000 Summer 2024: 73 videos\n",
      "Number of videos in GPHP 2010 Spring 2023: 67 videos\n",
      "Number of videos in GPHP 2010 Fall 2023: 13 videos\n",
      "Number of videos in GPHP 2010 Spring 2024: 76 videos\n",
      "Number of videos in GPHP 2010 Fall 2024: 63 videos\n",
      "Number of videos in GPHP 2020 Summer 2023: 20 videos\n",
      "Number of videos in GPHP 2020 Summer 2024: 20 videos\n",
      "Number of videos in GPHP 2020 Fall 2024: 20 videos\n",
      "Number of videos in GPHP 2300 Spring 2024: 26 videos\n",
      "Number of videos in GPHP 2300 Summer 2024: 21 videos\n",
      "Number of videos in GPHP 2300 Fall 2024: 21 videos\n",
      "Number of videos in GPHP 2310 Summer 2023: 76 videos\n",
      "Number of videos in GPHP 2310 Fall 2024: 21 videos\n",
      "Number of videos in GPHP 2320 Spring 2024: 37 videos\n",
      "Number of videos in GPHP 2320 Summer 2024: 25 videos\n",
      "Number of videos in GPHP 2400 Spring 2023: 67 videos\n",
      "Number of videos in GPHP 2400 Summer 2024: 35 videos\n",
      "Number of videos in GPHP 2400 Fall 2024: 45 videos\n",
      "Number of videos in GPHP 2410 Fall 2023: 46 videos\n",
      "Number of videos in GPHP 2410 Spring 2024: 24 videos\n",
      "Number of videos in GPHP2800 Fall 2022: 64 videos\n",
      "Number of videos in GPHP 2800 Fall 2023: 16 videos\n",
      "Number of videos in GPHP 2800 Spring 2024: 1 videos\n",
      "Number of videos in GPHP 2800 Fall 2024: 1 videos\n",
      "Number of videos in GPHP 2810 Summer 2024: 22 videos\n",
      "Number of videos in GPHP 2810 Fall 2024: 23 videos\n",
      "Number of videos in GPHP 2850 Fall 2023: 40 videos\n",
      "Number of videos in GPHP 2850 Spring 2024: 38 videos\n",
      "Number of videos in GPHP 2850 Summer 2024: 32 videos\n",
      "Number of videos in GPHP 2900 Summer 2024: 22 videos\n",
      "Number of videos in GPHP 2900 Fall 2024: 23 videos\n",
      "\n",
      "Total number of videos across all courses: 1275 videos)\n"
     ]
    }
   ],
   "source": [
    "# Number of videos across all courses\n",
    "videoCounter = {}\n",
    "\n",
    "courseNames = sheetNames[2:] # excluding the first two sheets (list of courses and metadata)\n",
    "\n",
    "for course in courseNames:\n",
    "    df = pd.read_excel(filePath, sheet_name = course)\n",
    "    videoCounter[course] = len(df)\n",
    "    print(f\"Number of videos in {course}: {len(df)} videos\")\n",
    "\n",
    "print(f\"\\nTotal number of videos across all courses: {sum(videoCounter.values())} videos)\")"
   ]
  },
  {
   "cell_type": "code",
   "execution_count": null,
   "metadata": {},
   "outputs": [
    {
     "name": "stdout",
     "output_type": "stream",
     "text": [
      "Most viewed/downloaded video for GPHP2000 Fall 2022: Self-Recorded with 118 views/downloads\n",
      "Most viewed/downloaded video for GPHP 2000 Spring 2024: Self-Recorded with 226 views/downloads\n",
      "Most viewed/downloaded video for GPHP 2000 Summer 2024: Self-Recorded with 57.0 views/downloads\n",
      "Most viewed/downloaded video for GPHP 2010 Spring 2023: Content Video with 350 views/downloads\n",
      "Most viewed/downloaded video for GPHP 2010 Fall 2023: Self-Recorded with 208 views/downloads\n",
      "Most viewed/downloaded video for GPHP 2010 Spring 2024: Content Video with 84 views/downloads\n",
      "Most viewed/downloaded video for GPHP 2010 Fall 2024: Content Video with 88 views/downloads\n",
      "Most viewed/downloaded video for GPHP 2020 Summer 2023: Content Video with 72 views/downloads\n",
      "Most viewed/downloaded video for GPHP 2020 Summer 2024: Content Video with 52 views/downloads\n",
      "Most viewed/downloaded video for GPHP 2020 Fall 2024: Content Video with 26 views/downloads\n",
      "Most viewed/downloaded video for GPHP 2300 Spring 2024: Content Video with 44 views/downloads\n",
      "Most viewed/downloaded video for GPHP 2300 Summer 2024: Content Video with 14 views/downloads\n",
      "Most viewed/downloaded video for GPHP 2300 Fall 2024: Content Video with 61 views/downloads\n",
      "Most viewed/downloaded video for GPHP 2310 Summer 2023: Content Video with 54 views/downloads\n",
      "Most viewed/downloaded video for GPHP 2310 Fall 2024: Content Video with 30 views/downloads\n",
      "Most viewed/downloaded video for GPHP 2320 Spring 2024: Content Video with 100 views/downloads\n",
      "Most viewed/downloaded video for GPHP 2320 Summer 2024: Content Video with 39 views/downloads\n",
      "Most viewed/downloaded video for GPHP 2400 Spring 2023: Content Video with 80 views/downloads\n",
      "Most viewed/downloaded video for GPHP 2400 Summer 2024: Content Video with 29 views/downloads\n",
      "Most viewed/downloaded video for GPHP 2400 Fall 2024: Content Video with 26 views/downloads\n",
      "Most viewed/downloaded video for GPHP 2410 Fall 2023: Content Video with 46 views/downloads\n",
      "Most viewed/downloaded video for GPHP 2410 Spring 2024: Content Video with 26 views/downloads\n",
      "Most viewed/downloaded video for GPHP2800 Fall 2022: Content Video with 91 views/downloads\n",
      "Most viewed/downloaded video for GPHP 2800 Fall 2023: Vocabulary with 9 views/downloads\n",
      "Most viewed/downloaded video for GPHP 2800 Spring 2024: Content Video with 1 views/downloads\n",
      "Most viewed/downloaded video for GPHP 2800 Fall 2024: Content Video with 1 views/downloads\n",
      "Most viewed/downloaded video for GPHP 2810 Summer 2024: Content Video with 22 views/downloads\n",
      "Most viewed/downloaded video for GPHP 2810 Fall 2024: Content Video with 16 views/downloads\n",
      "Most viewed/downloaded video for GPHP 2850 Fall 2023: Content Video with 50 views/downloads\n",
      "Most viewed/downloaded video for GPHP 2850 Spring 2024: Content Video with 83 views/downloads\n",
      "Most viewed/downloaded video for GPHP 2850 Summer 2024: Content Video with 27 views/downloads\n",
      "Most viewed/downloaded video for GPHP 2900 Summer 2024: Self-Recorded with 29 views/downloads\n",
      "Most viewed/downloaded video for GPHP 2900 Fall 2024: Self-Recorded with 25 views/downloads\n"
     ]
    },
    {
     "ename": "",
     "evalue": "",
     "output_type": "error",
     "traceback": [
      "\u001b[1;31mnotebook controller is DISPOSED. \n",
      "\u001b[1;31mView Jupyter <a href='command:jupyter.viewOutput'>log</a> for further details."
     ]
    }
   ],
   "source": [
    "mostViewedAll = []\n",
    "\n",
    "for course in courseNames:\n",
    "    df = pd.read_excel(filePath, sheet_name = course)\n",
    "\n",
    "    if not df.empty and 'Views and Downloads' in df.columns:\n",
    "        mostViews = df['Views and Downloads'].idxmax()\n",
    "        mostViewedCourse = df.loc[mostViews]\n",
    "        type = mostViewedCourse['Media Type']\n",
    "\n",
    "        mostViewedAll.append({\n",
    "            'Content Type': type,\n",
    "            'Course': course,\n",
    "            'Views/Downloads': mostViewedCourse['Views and Downloads']\n",
    "        })\n",
    "\n",
    "# Display the most viewed/downloaded video for each course\n",
    "for v in mostViewedAll:\n",
    "    print(f\"Most viewed/downloaded video for {v['Course']}: {v['Content Type']} with {v['Views/Downloads']} views/downloads\")\n"
   ]
  },
  {
   "cell_type": "code",
   "execution_count": null,
   "metadata": {},
   "outputs": [
    {
     "name": "stdout",
     "output_type": "stream",
     "text": [
      "Course Name: GPHP2000 Fall 2022\n",
      "Number of videos: 140\n",
      "Number of variables (column): 10\n"
     ]
    },
    {
     "ename": "",
     "evalue": "",
     "output_type": "error",
     "traceback": [
      "\u001b[1;31mnotebook controller is DISPOSED. \n",
      "\u001b[1;31mView Jupyter <a href='command:jupyter.viewOutput'>log</a> for further details."
     ]
    }
   ],
   "source": [
    "# Let's explore one of the courses \n",
    "\n",
    "# Target sheet (course) - you can change this to any sheet name\n",
    "targetSheet = sheetNames[2]\n",
    "\n",
    "# Load the target sheet into a DataFrame\n",
    "df = pd.read_excel(filePath, sheet_name = targetSheet)\n",
    "\n",
    "print(f\"Course Name: {targetSheet}\")\n",
    "print(f\"Number of videos: {df.shape[0]}\")\n",
    "print(f\"Number of variables (column): {df.shape[1]}\")"
   ]
  },
  {
   "cell_type": "code",
   "execution_count": null,
   "metadata": {},
   "outputs": [
    {
     "name": "stdout",
     "output_type": "stream",
     "text": [
      "Variables (columns):\n",
      "1. Session\n",
      "2. Media Type\n",
      "3. Views and Downloads\n",
      "4. Minutes Delivered\n",
      "5. Average Minutes Delivered\n",
      "6. Video Duration Minutes\n",
      "7. Unique Viewers\n",
      "8. Folder\n",
      "9. Top-Level Folder\n",
      "10. Creator\n"
     ]
    },
    {
     "ename": "",
     "evalue": "",
     "output_type": "error",
     "traceback": [
      "\u001b[1;31mnotebook controller is DISPOSED. \n",
      "\u001b[1;31mView Jupyter <a href='command:jupyter.viewOutput'>log</a> for further details."
     ]
    }
   ],
   "source": [
    "# Display the variables (columns)\n",
    "print(\"Variables (columns):\")\n",
    "for i, var in enumerate(df.columns):\n",
    "    print(f\"{i+1}. {var}\")"
   ]
  },
  {
   "cell_type": "code",
   "execution_count": null,
   "metadata": {},
   "outputs": [
    {
     "name": "stdout",
     "output_type": "stream",
     "text": [
      "First 10 videos (rows)\n"
     ]
    },
    {
     "data": {
      "text/html": [
       "<div>\n",
       "<style scoped>\n",
       "    .dataframe tbody tr th:only-of-type {\n",
       "        vertical-align: middle;\n",
       "    }\n",
       "\n",
       "    .dataframe tbody tr th {\n",
       "        vertical-align: top;\n",
       "    }\n",
       "\n",
       "    .dataframe thead th {\n",
       "        text-align: right;\n",
       "    }\n",
       "</style>\n",
       "<table border=\"1\" class=\"dataframe\">\n",
       "  <thead>\n",
       "    <tr style=\"text-align: right;\">\n",
       "      <th></th>\n",
       "      <th>Session</th>\n",
       "      <th>Media Type</th>\n",
       "      <th>Views and Downloads</th>\n",
       "      <th>Minutes Delivered</th>\n",
       "      <th>Average Minutes Delivered</th>\n",
       "      <th>Video Duration Minutes</th>\n",
       "      <th>Unique Viewers</th>\n",
       "      <th>Folder</th>\n",
       "      <th>Top-Level Folder</th>\n",
       "      <th>Creator</th>\n",
       "    </tr>\n",
       "  </thead>\n",
       "  <tbody>\n",
       "    <tr>\n",
       "      <th>0</th>\n",
       "      <td>adam_course_intro</td>\n",
       "      <td>Course Intro</td>\n",
       "      <td>56</td>\n",
       "      <td>187.5</td>\n",
       "      <td>3.3</td>\n",
       "      <td>4.3</td>\n",
       "      <td>47</td>\n",
       "      <td>2022 Fall - GPHP2000 Fall22 Using Biostatistic...</td>\n",
       "      <td>2022 Fall - GPHP2000 Fall22 Using Biostatistic...</td>\n",
       "      <td>Shelly Strunk</td>\n",
       "    </tr>\n",
       "    <tr>\n",
       "      <th>1</th>\n",
       "      <td>adam_mod_01_intro_default</td>\n",
       "      <td>Mod Intro Video</td>\n",
       "      <td>50</td>\n",
       "      <td>36.8</td>\n",
       "      <td>0.7</td>\n",
       "      <td>0.8</td>\n",
       "      <td>44</td>\n",
       "      <td>2022 Fall - GPHP2000 Fall22 Using Biostatistic...</td>\n",
       "      <td>2022 Fall - GPHP2000 Fall22 Using Biostatistic...</td>\n",
       "      <td>Kyle Sloane</td>\n",
       "    </tr>\n",
       "    <tr>\n",
       "      <th>2</th>\n",
       "      <td>adam_mod_03_intro</td>\n",
       "      <td>Mod Intro Video</td>\n",
       "      <td>32</td>\n",
       "      <td>18.5</td>\n",
       "      <td>0.6</td>\n",
       "      <td>0.7</td>\n",
       "      <td>26</td>\n",
       "      <td>2022 Fall - GPHP2000 Fall22 Using Biostatistic...</td>\n",
       "      <td>2022 Fall - GPHP2000 Fall22 Using Biostatistic...</td>\n",
       "      <td>Shelly Strunk</td>\n",
       "    </tr>\n",
       "    <tr>\n",
       "      <th>3</th>\n",
       "      <td>adam_mod_04_intro</td>\n",
       "      <td>Mod Intro Video</td>\n",
       "      <td>25</td>\n",
       "      <td>16.7</td>\n",
       "      <td>0.7</td>\n",
       "      <td>0.7</td>\n",
       "      <td>24</td>\n",
       "      <td>2022 Fall - GPHP2000 Fall22 Using Biostatistic...</td>\n",
       "      <td>2022 Fall - GPHP2000 Fall22 Using Biostatistic...</td>\n",
       "      <td>Shelly Strunk</td>\n",
       "    </tr>\n",
       "    <tr>\n",
       "      <th>4</th>\n",
       "      <td>adam_mod_05_intro</td>\n",
       "      <td>Mod Intro Video</td>\n",
       "      <td>26</td>\n",
       "      <td>24.8</td>\n",
       "      <td>1.0</td>\n",
       "      <td>1.2</td>\n",
       "      <td>23</td>\n",
       "      <td>2022 Fall - GPHP2000 Fall22 Using Biostatistic...</td>\n",
       "      <td>2022 Fall - GPHP2000 Fall22 Using Biostatistic...</td>\n",
       "      <td>Shelly Strunk</td>\n",
       "    </tr>\n",
       "    <tr>\n",
       "      <th>5</th>\n",
       "      <td>adam_mod_07_intro</td>\n",
       "      <td>Mod Intro Video</td>\n",
       "      <td>28</td>\n",
       "      <td>31.6</td>\n",
       "      <td>1.1</td>\n",
       "      <td>1.4</td>\n",
       "      <td>23</td>\n",
       "      <td>2022 Fall - GPHP2000 Fall22 Using Biostatistic...</td>\n",
       "      <td>2022 Fall - GPHP2000 Fall22 Using Biostatistic...</td>\n",
       "      <td>Shelly Strunk</td>\n",
       "    </tr>\n",
       "    <tr>\n",
       "      <th>6</th>\n",
       "      <td>adam_mod_08_intro</td>\n",
       "      <td>Mod Intro Video</td>\n",
       "      <td>27</td>\n",
       "      <td>13.5</td>\n",
       "      <td>0.5</td>\n",
       "      <td>0.6</td>\n",
       "      <td>23</td>\n",
       "      <td>2022 Fall - GPHP2000 Fall22 Using Biostatistic...</td>\n",
       "      <td>2022 Fall - GPHP2000 Fall22 Using Biostatistic...</td>\n",
       "      <td>Shelly Strunk</td>\n",
       "    </tr>\n",
       "    <tr>\n",
       "      <th>7</th>\n",
       "      <td>adam_mod_09_intro</td>\n",
       "      <td>Mod Intro Video</td>\n",
       "      <td>23</td>\n",
       "      <td>37.6</td>\n",
       "      <td>1.6</td>\n",
       "      <td>1.9</td>\n",
       "      <td>21</td>\n",
       "      <td>2022 Fall - GPHP2000 Fall22 Using Biostatistic...</td>\n",
       "      <td>2022 Fall - GPHP2000 Fall22 Using Biostatistic...</td>\n",
       "      <td>Shelly Strunk</td>\n",
       "    </tr>\n",
       "    <tr>\n",
       "      <th>8</th>\n",
       "      <td>adam_mod_10_intro</td>\n",
       "      <td>Mod Intro Video</td>\n",
       "      <td>19</td>\n",
       "      <td>23.4</td>\n",
       "      <td>1.2</td>\n",
       "      <td>1.4</td>\n",
       "      <td>16</td>\n",
       "      <td>2022 Fall - GPHP2000 Fall22 Using Biostatistic...</td>\n",
       "      <td>2022 Fall - GPHP2000 Fall22 Using Biostatistic...</td>\n",
       "      <td>Shelly Strunk</td>\n",
       "    </tr>\n",
       "    <tr>\n",
       "      <th>9</th>\n",
       "      <td>adam_mod_11_intro</td>\n",
       "      <td>Mod Intro Video</td>\n",
       "      <td>18</td>\n",
       "      <td>22.2</td>\n",
       "      <td>1.2</td>\n",
       "      <td>1.3</td>\n",
       "      <td>16</td>\n",
       "      <td>2022 Fall - GPHP2000 Fall22 Using Biostatistic...</td>\n",
       "      <td>2022 Fall - GPHP2000 Fall22 Using Biostatistic...</td>\n",
       "      <td>Shelly Strunk</td>\n",
       "    </tr>\n",
       "  </tbody>\n",
       "</table>\n",
       "</div>"
      ],
      "text/plain": [
       "                     Session       Media Type  Views and Downloads  \\\n",
       "0          adam_course_intro     Course Intro                   56   \n",
       "1  adam_mod_01_intro_default  Mod Intro Video                   50   \n",
       "2          adam_mod_03_intro  Mod Intro Video                   32   \n",
       "3          adam_mod_04_intro  Mod Intro Video                   25   \n",
       "4          adam_mod_05_intro  Mod Intro Video                   26   \n",
       "5          adam_mod_07_intro  Mod Intro Video                   28   \n",
       "6          adam_mod_08_intro  Mod Intro Video                   27   \n",
       "7          adam_mod_09_intro  Mod Intro Video                   23   \n",
       "8          adam_mod_10_intro  Mod Intro Video                   19   \n",
       "9          adam_mod_11_intro  Mod Intro Video                   18   \n",
       "\n",
       "   Minutes Delivered  Average Minutes Delivered  Video Duration Minutes  \\\n",
       "0              187.5                        3.3                     4.3   \n",
       "1               36.8                        0.7                     0.8   \n",
       "2               18.5                        0.6                     0.7   \n",
       "3               16.7                        0.7                     0.7   \n",
       "4               24.8                        1.0                     1.2   \n",
       "5               31.6                        1.1                     1.4   \n",
       "6               13.5                        0.5                     0.6   \n",
       "7               37.6                        1.6                     1.9   \n",
       "8               23.4                        1.2                     1.4   \n",
       "9               22.2                        1.2                     1.3   \n",
       "\n",
       "   Unique Viewers                                             Folder  \\\n",
       "0              47  2022 Fall - GPHP2000 Fall22 Using Biostatistic...   \n",
       "1              44  2022 Fall - GPHP2000 Fall22 Using Biostatistic...   \n",
       "2              26  2022 Fall - GPHP2000 Fall22 Using Biostatistic...   \n",
       "3              24  2022 Fall - GPHP2000 Fall22 Using Biostatistic...   \n",
       "4              23  2022 Fall - GPHP2000 Fall22 Using Biostatistic...   \n",
       "5              23  2022 Fall - GPHP2000 Fall22 Using Biostatistic...   \n",
       "6              23  2022 Fall - GPHP2000 Fall22 Using Biostatistic...   \n",
       "7              21  2022 Fall - GPHP2000 Fall22 Using Biostatistic...   \n",
       "8              16  2022 Fall - GPHP2000 Fall22 Using Biostatistic...   \n",
       "9              16  2022 Fall - GPHP2000 Fall22 Using Biostatistic...   \n",
       "\n",
       "                                    Top-Level Folder        Creator  \n",
       "0  2022 Fall - GPHP2000 Fall22 Using Biostatistic...  Shelly Strunk  \n",
       "1  2022 Fall - GPHP2000 Fall22 Using Biostatistic...    Kyle Sloane  \n",
       "2  2022 Fall - GPHP2000 Fall22 Using Biostatistic...  Shelly Strunk  \n",
       "3  2022 Fall - GPHP2000 Fall22 Using Biostatistic...  Shelly Strunk  \n",
       "4  2022 Fall - GPHP2000 Fall22 Using Biostatistic...  Shelly Strunk  \n",
       "5  2022 Fall - GPHP2000 Fall22 Using Biostatistic...  Shelly Strunk  \n",
       "6  2022 Fall - GPHP2000 Fall22 Using Biostatistic...  Shelly Strunk  \n",
       "7  2022 Fall - GPHP2000 Fall22 Using Biostatistic...  Shelly Strunk  \n",
       "8  2022 Fall - GPHP2000 Fall22 Using Biostatistic...  Shelly Strunk  \n",
       "9  2022 Fall - GPHP2000 Fall22 Using Biostatistic...  Shelly Strunk  "
      ]
     },
     "execution_count": 9,
     "metadata": {},
     "output_type": "execute_result"
    },
    {
     "ename": "",
     "evalue": "",
     "output_type": "error",
     "traceback": [
      "\u001b[1;31mnotebook controller is DISPOSED. \n",
      "\u001b[1;31mView Jupyter <a href='command:jupyter.viewOutput'>log</a> for further details."
     ]
    }
   ],
   "source": [
    "# Display the first few videos (rows)\n",
    "print(\"First 10 videos (rows)\")\n",
    "df.head(10)"
   ]
  },
  {
   "cell_type": "markdown",
   "metadata": {},
   "source": [
    "#### Let's find some patterns in this course!\n",
    "\n",
    "1. Total number of videos \n",
    "2. Total number of views/downloads for this course\n",
    "3. The most viewed/downloaded video content"
   ]
  },
  {
   "cell_type": "code",
   "execution_count": null,
   "metadata": {},
   "outputs": [
    {
     "name": "stdout",
     "output_type": "stream",
     "text": [
      "Total videos in GPHP2000 Fall 2022 course: 140\n"
     ]
    },
    {
     "ename": "",
     "evalue": "",
     "output_type": "error",
     "traceback": [
      "\u001b[1;31mnotebook controller is DISPOSED. \n",
      "\u001b[1;31mView Jupyter <a href='command:jupyter.viewOutput'>log</a> for further details."
     ]
    }
   ],
   "source": [
    "# Basic data exploration about the target course\n",
    "print(f\"Total videos in {targetSheet} course: {len(df)}\")"
   ]
  },
  {
   "cell_type": "code",
   "execution_count": null,
   "metadata": {},
   "outputs": [
    {
     "name": "stdout",
     "output_type": "stream",
     "text": [
      "Total views for this course: 4254\n"
     ]
    },
    {
     "ename": "",
     "evalue": "",
     "output_type": "error",
     "traceback": [
      "\u001b[1;31mnotebook controller is DISPOSED. \n",
      "\u001b[1;31mView Jupyter <a href='command:jupyter.viewOutput'>log</a> for further details."
     ]
    }
   ],
   "source": [
    "# Explore 'Views and Downloads' column:\n",
    "if 'Views and Downloads' in df.columns:\n",
    "    total_views = df['Views and Downloads'].sum()\n",
    "    print(f\"Total views for this course: {total_views}\")"
   ]
  },
  {
   "cell_type": "code",
   "execution_count": null,
   "metadata": {},
   "outputs": [
    {
     "name": "stdout",
     "output_type": "stream",
     "text": [
      "Most Viewed/downloaded Session                              Module 2_ Filtering Data_default_d1c0a870\n",
      "Media Type                                                       Self-Recorded\n",
      "Views and Downloads                                                        118\n",
      "Minutes Delivered                                                        586.7\n",
      "Average Minutes Delivered                                                  5.0\n",
      "Video Duration Minutes                                                     8.4\n",
      "Unique Viewers                                                              47\n",
      "Folder                       2022 Fall - GPHP2000 Fall22 Using Biostatistic...\n",
      "Top-Level Folder             2022 Fall - GPHP2000 Fall22 Using Biostatistic...\n",
      "Creator                                                          Shelly Strunk\n",
      "Name: 22, dtype: object video\n"
     ]
    },
    {
     "ename": "",
     "evalue": "",
     "output_type": "error",
     "traceback": [
      "\u001b[1;31mnotebook controller is DISPOSED. \n",
      "\u001b[1;31mView Jupyter <a href='command:jupyter.viewOutput'>log</a> for further details."
     ]
    }
   ],
   "source": [
    "# Most Viewed/downloaded video content\n",
    "most_viewed = df.loc[df['Views and Downloads'].idxmax()]\n",
    "print(f\"Most Viewed/downloaded {most_viewed} video\")"
   ]
  }
 ],
 "metadata": {
  "kernelspec": {
   "display_name": "venv",
   "language": "python",
   "name": "python3"
  },
  "language_info": {
   "codemirror_mode": {
    "name": "ipython",
    "version": 3
   },
   "file_extension": ".py",
   "mimetype": "text/x-python",
   "name": "python",
   "nbconvert_exporter": "python",
   "pygments_lexer": "ipython3",
   "version": "3.13.7"
  }
 },
 "nbformat": 4,
 "nbformat_minor": 2
}
