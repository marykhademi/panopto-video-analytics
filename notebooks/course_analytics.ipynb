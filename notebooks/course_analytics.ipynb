{
 "cells": [
  {
   "cell_type": "markdown",
   "metadata": {},
   "source": [
    "#### Phase 1: Data Import and Preparation"
   ]
  },
  {
   "cell_type": "code",
   "execution_count": null,
   "metadata": {},
   "outputs": [],
   "source": [
    "# Import necessary libaries and packages\n",
    "import pandas as pd\n",
    "import numpy as np\n",
    "import matplotlib.pyplot as plt\n",
    "import seaborn as sns\n",
    "from datetime import datetime\n",
    "import warnings\n",
    "warnings.filterwarnings('ignore')\n",
    "\n",
    "# Load and examine the dataframe structure\n",
    "file_path = \"../data/raw/df.xlsx\"\n",
    "data = pd.ExcelFile(file_path)\n",
    "\n",
    "# All courses (sheets) except first two sheets (metadata)\n",
    "course_list = [sheet for sheet in data.sheet_names if sheet not in ['List of Courses', 'Data Points Defined']]\n",
    "\n",
    "print(f\"There are {len(course_list)} courses in this excel file, which are:\")\n",
    "for i, course in enumerate(course_list):\n",
    "    print(f\"{i+1}. {course}\")"
   ]
  },
  {
   "cell_type": "markdown",
   "metadata": {},
   "source": [
    "#### Phase 2: Combine all courses (sheets) into one sheet"
   ]
  },
  {
   "cell_type": "code",
   "execution_count": null,
   "metadata": {},
   "outputs": [],
   "source": [
    "# A function to take a excel file and a list of sheets and combine all sheets into one\n",
    "\n",
    "def combine_course_data(file_path, course_list):\n",
    "    all_courses = []\n",
    "\n",
    "    for sheet in course_list:\n",
    "        try:\n",
    "            df = pd.read_excel(file_path, sheet_name = sheet)\n",
    "\n",
    "            df['course_identifier'] = sheet\n",
    "\n",
    "            parts = sheet.split(' ')\n",
    "            if len(parts) >= 3:\n",
    "                df['course_code'] = parts[0] + ' ' + parts[1]\n",
    "                df['term'] = ' '.join(parts[2:])\n",
    "            else:\n",
    "                df['course_code'] = sheet\n",
    "                df['term'] = 'unknown'\n",
    "\n",
    "            df.columns = df.columns.str.lower().str.replace(' ', '_').str.replace('-', '_')\n",
    "\n",
    "            all_courses.append(df)\n",
    "\n",
    "        except Expection as e:\n",
    "            print(f\"Error happening {sheet}: {e}\")\n",
    "    \n",
    "    return pd.concat(all_courses, ignore_index = True, sort = False)"
   ]
  },
  {
   "cell_type": "code",
   "execution_count": null,
   "metadata": {},
   "outputs": [],
   "source": [
    "# Load the dataset by applying the function on excel file\n",
    "new_data = combine_course_data(file_path, course_list)\n",
    "print(f\"New dataset structure: {new_data.shape}\") # (no. of rows, no. of columns)\n",
    "\n",
    "# Display column names\n",
    "print(f\"\\nList of new dataset columns:\")\n",
    "for i, col in enumerate(new_data.columns):\n",
    "    print(f\"{i+1}. {col}\")\n",
    "                "
   ]
  },
  {
   "cell_type": "markdown",
   "metadata": {},
   "source": [
    "#### Phase 3: Data Quality Assessment\n",
    "\n",
    "- look for negative and missing values, outliers by checking the range (min, max)"
   ]
  },
  {
   "cell_type": "code",
   "execution_count": null,
   "metadata": {},
   "outputs": [],
   "source": []
  },
  {
   "cell_type": "markdown",
   "metadata": {},
   "source": [
    "#### Phase 4: Analysis\n",
    "\n",
    "1. Which types of content(video) had the most/least total views by type? Also classify videos based on session name patterns, in case of no media type column\n"
   ]
  },
  {
   "cell_type": "code",
   "execution_count": null,
   "metadata": {},
   "outputs": [],
   "source": [
    "# Question 1: total minutes by media type\n",
    "\n",
    "def analyze_minutes_by_media_type(df):\n",
    "    \n",
    "    if 'media_type' not in df.columns:\n",
    "        print(\"Media Type column is not found. Replacing it with session names.\")\n",
    "        # Create media type classification from session names if missing\n",
    "        df['media_type'] = df['session'].apply(classify_media_type)\n",
    "    \n",
    "    # Calculate total minutes delivered by media type\n",
    "    media_type_analysis = df.groupby('media_type').agg({\n",
    "        'minutes_delivered': ['sum', 'mean', 'count'],\n",
    "        'views_and_downloads': ['sum', 'mean'],\n",
    "        'unique_viewers': ['sum', 'mean'],\n",
    "        'video_duration_minutes': ['sum', 'mean']}).round(2)\n",
    "    \n",
    "    # Flatten column names\n",
    "    media_type_analysis.columns = ['_'.join(col).strip() for col in media_type_analysis.columns]\n",
    "    \n",
    "    # Calculate engagement ratio (minutes delivered/original duration)\n",
    "    media_type_analysis['engagement_ratio'] = (\n",
    "        media_type_analysis['minutes_delivered_sum'] / \n",
    "        media_type_analysis['video_duration_minutes_sum']).round(2)\n",
    "    \n",
    "    # Sort by total minutes delivered\n",
    "    media_type_analysis = media_type_analysis.sort_values(\n",
    "        'minutes_delivered_sum', \n",
    "        ascending = False)\n",
    "        \n",
    "    return media_type_analysis\n",
    "\n",
    "def classify_media_type(session_name):\n",
    "    session_name = session_name.lower()\n",
    "    \n",
    "    if 'content' in session_name:\n",
    "        return 'Content Video'\n",
    "    elif 'interview' in session_name:\n",
    "        return 'Interview'\n",
    "    elif 'mod_' in session_name or 'module' in session_name:\n",
    "        return 'Module Content'\n",
    "    elif 'record_' in session_name:\n",
    "        return 'Recordings'\n",
    "    else:\n",
    "        return 'Other'"
   ]
  },
  {
   "cell_type": "code",
   "execution_count": null,
   "metadata": {},
   "outputs": [],
   "source": [
    "# Run content type analysis\n",
    "results = analyze_minutes_by_media_type(new_data)\n",
    "results"
   ]
  }
 ],
 "metadata": {
  "kernelspec": {
   "display_name": "venv",
   "language": "python",
   "name": "python3"
  },
  "language_info": {
   "codemirror_mode": {
    "name": "ipython",
    "version": 3
   },
   "file_extension": ".py",
   "mimetype": "text/x-python",
   "name": "python",
   "nbconvert_exporter": "python",
   "pygments_lexer": "ipython3",
   "version": "3.13.7"
  }
 },
 "nbformat": 4,
 "nbformat_minor": 2
}
